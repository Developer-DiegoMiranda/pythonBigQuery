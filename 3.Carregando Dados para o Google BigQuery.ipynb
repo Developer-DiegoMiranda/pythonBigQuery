{
 "cells": [
  {
   "cell_type": "code",
   "execution_count": 86,
   "metadata": {},
   "outputs": [],
   "source": [
    "#pip install google-cloud-bigquery\n",
    "#pip install --upgrade google-cloud-bigquery\n",
    "#pip install pandas\n",
    "\n",
    "#pip install pandas pandas-gbq"
   ]
  },
  {
   "cell_type": "code",
   "execution_count": 1,
   "metadata": {},
   "outputs": [],
   "source": [
    "import pandas as pd\n",
    "from google.cloud import bigquery\n",
    "from google.oauth2 import service_account\n",
    "from pandas_gbq import to_gbq\n",
    "\n",
    "# Carregue suas credenciais\n",
    "# OBSIMP: A credencial é baixada pelo BigQuery em JSON (Copie e Cole o caminho)\n",
    "credencial = service_account.Credentials.from_service_account_file(\n",
    "    r'C:\\Users\\10\\Downloads\\teste-big-query-425313.json',\n",
    "    scopes=['https://www.googleapis.com/auth/bigquery']\n",
    ")"
   ]
  },
  {
   "cell_type": "code",
   "execution_count": 5,
   "metadata": {},
   "outputs": [
    {
     "data": {
      "text/html": [
       "<div>\n",
       "<style scoped>\n",
       "    .dataframe tbody tr th:only-of-type {\n",
       "        vertical-align: middle;\n",
       "    }\n",
       "\n",
       "    .dataframe tbody tr th {\n",
       "        vertical-align: top;\n",
       "    }\n",
       "\n",
       "    .dataframe thead th {\n",
       "        text-align: right;\n",
       "    }\n",
       "</style>\n",
       "<table border=\"1\" class=\"dataframe\">\n",
       "  <thead>\n",
       "    <tr style=\"text-align: right;\">\n",
       "      <th></th>\n",
       "      <th>Motorista</th>\n",
       "      <th>agendamento</th>\n",
       "      <th>Chegada</th>\n",
       "    </tr>\n",
       "  </thead>\n",
       "  <tbody>\n",
       "    <tr>\n",
       "      <th>0</th>\n",
       "      <td>Rafael Batista</td>\n",
       "      <td>2020-10-12T15:17:05Z</td>\n",
       "      <td>2020-10-12T15:17:05Z</td>\n",
       "    </tr>\n",
       "    <tr>\n",
       "      <th>1</th>\n",
       "      <td>Luana Almeida</td>\n",
       "      <td>2020-10-16T00:50:39Z</td>\n",
       "      <td>2020-10-16T00:50:39Z</td>\n",
       "    </tr>\n",
       "    <tr>\n",
       "      <th>2</th>\n",
       "      <td>Beatriz Bueno</td>\n",
       "      <td>2020-10-16T16:29:15Z</td>\n",
       "      <td>2020-10-16T19:25:15Z</td>\n",
       "    </tr>\n",
       "    <tr>\n",
       "      <th>3</th>\n",
       "      <td>João Magalhães</td>\n",
       "      <td>2020-10-19T20:18:14Z</td>\n",
       "      <td>2020-10-19T17:18:14Z</td>\n",
       "    </tr>\n",
       "    <tr>\n",
       "      <th>4</th>\n",
       "      <td>Diego Barboza</td>\n",
       "      <td>2020-10-22T12:49:39Z</td>\n",
       "      <td>2020-10-22T08:49:39Z</td>\n",
       "    </tr>\n",
       "    <tr>\n",
       "      <th>5</th>\n",
       "      <td>Maria Pires</td>\n",
       "      <td>2020-10-26T00:35:22Z</td>\n",
       "      <td>2020-10-26T00:05:22Z</td>\n",
       "    </tr>\n",
       "    <tr>\n",
       "      <th>6</th>\n",
       "      <td>Marta Jesus</td>\n",
       "      <td>2020-11-01T14:45:41Z</td>\n",
       "      <td>2020-11-01T18:40:41Z</td>\n",
       "    </tr>\n",
       "    <tr>\n",
       "      <th>7</th>\n",
       "      <td>Laura Queiroz</td>\n",
       "      <td>2020-11-02T22:13:22Z</td>\n",
       "      <td>2020-11-02T18:53:22Z</td>\n",
       "    </tr>\n",
       "    <tr>\n",
       "      <th>8</th>\n",
       "      <td>Francisco Nascimento</td>\n",
       "      <td>2020-11-12T03:02:41Z</td>\n",
       "      <td>2020-11-12T03:02:41Z</td>\n",
       "    </tr>\n",
       "    <tr>\n",
       "      <th>9</th>\n",
       "      <td>Caio Batista</td>\n",
       "      <td>2020-11-15T07:17:25Z</td>\n",
       "      <td>2020-11-15T09:17:25Z</td>\n",
       "    </tr>\n",
       "  </tbody>\n",
       "</table>\n",
       "</div>"
      ],
      "text/plain": [
       "              Motorista           agendamento               Chegada\n",
       "0        Rafael Batista  2020-10-12T15:17:05Z  2020-10-12T15:17:05Z\n",
       "1         Luana Almeida  2020-10-16T00:50:39Z  2020-10-16T00:50:39Z\n",
       "2         Beatriz Bueno  2020-10-16T16:29:15Z  2020-10-16T19:25:15Z\n",
       "3        João Magalhães  2020-10-19T20:18:14Z  2020-10-19T17:18:14Z\n",
       "4         Diego Barboza  2020-10-22T12:49:39Z  2020-10-22T08:49:39Z\n",
       "5           Maria Pires  2020-10-26T00:35:22Z  2020-10-26T00:05:22Z\n",
       "6           Marta Jesus  2020-11-01T14:45:41Z  2020-11-01T18:40:41Z\n",
       "7         Laura Queiroz  2020-11-02T22:13:22Z  2020-11-02T18:53:22Z\n",
       "8  Francisco Nascimento  2020-11-12T03:02:41Z  2020-11-12T03:02:41Z\n",
       "9          Caio Batista  2020-11-15T07:17:25Z  2020-11-15T09:17:25Z"
      ]
     },
     "execution_count": 5,
     "metadata": {},
     "output_type": "execute_result"
    }
   ],
   "source": [
    "#Criando dataframe\n",
    "# Caminho onde enco\n",
    "df = pd.read_csv(r\"\\\\10\\usuarios$\\10\\Desktop\\Agendamento.csv\")\n",
    "# Opcional: Carregue o arquivo que irá importar ou atualizar e faça a leitura\n",
    "df.head(10)"
   ]
  },
  {
   "cell_type": "code",
   "execution_count": 6,
   "metadata": {},
   "outputs": [
    {
     "name": "stderr",
     "output_type": "stream",
     "text": [
      "C:\\Users\\107035\\AppData\\Local\\Temp\\ipykernel_21252\\2048380674.py:2: FutureWarning: to_gbq is deprecated and will be removed in a future version. Please use pandas_gbq.to_gbq instead: https://pandas-gbq.readthedocs.io/en/latest/api.html#pandas_gbq.to_gbq\n",
      "  df.to_gbq(destination_table='teste-big-query-425313.Logistica.Agendamento',  # Substitua pelo nome correto da tabela(obs caminho completo)\n"
     ]
    }
   ],
   "source": [
    "#1º Forma de conectar ao BigQuery\n",
    "\n",
    "# Envie o DataFrame para o BigQuery\n",
    "df.to_gbq(destination_table='teste-big-query-425313.Logistica.Agendamento',  # Substitua pelo nome correto da tabela(obs caminho completo)\n",
    "          project_id='teste-big-query-425313',\n",
    "          if_exists='replace',\n",
    "          credentials=credencial)\n",
    "\n",
    "#replace = subistuir a antiga pela original \n",
    "#append = adiciona dados no fim da tabela"
   ]
  }
 ],
 "metadata": {
  "kernelspec": {
   "display_name": "Python 3",
   "language": "python",
   "name": "python3"
  },
  "language_info": {
   "codemirror_mode": {
    "name": "ipython",
    "version": 3
   },
   "file_extension": ".py",
   "mimetype": "text/x-python",
   "name": "python",
   "nbconvert_exporter": "python",
   "pygments_lexer": "ipython3",
   "version": "3.11.4"
  },
  "orig_nbformat": 4
 },
 "nbformat": 4,
 "nbformat_minor": 2
}
