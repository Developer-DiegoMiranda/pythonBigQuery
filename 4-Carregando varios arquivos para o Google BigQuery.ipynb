{
 "cells": [
  {
   "cell_type": "code",
   "execution_count": 1,
   "metadata": {},
   "outputs": [],
   "source": [
    "#Bibliotecas\n",
    "import pandas as pd\n",
    "from google.cloud import bigquery\n",
    "from google.oauth2 import service_account\n",
    "from pandas_gbq import to_gbq"
   ]
  },
  {
   "cell_type": "code",
   "execution_count": 2,
   "metadata": {},
   "outputs": [],
   "source": [
    "#Variavel com Caminho + Arquivos para Importação \n",
    "SADT_Digit_Manual = pd.read_excel(r\"\\\\10.8\\usuarios$\\107\\Desktop\\Funcional_2024\\SADT_UNIR\\SADT_Digit_Manual_012024.xlsx\")\n",
    "SADT_Digit_Portal = pd.read_excel(r\"\\\\10.8\\usuarios$\\107\\Desktop\\Funcional_2024\\SADT_UNIR\\SADT_Digit_Portal_012024.xlsx\")\n",
    "SADT_ImportA500 = pd.read_excel(r\"\\\\10.8\\usuarios$\\107\\Desktop\\Funcional_2024\\SADT_UNIR\\SADT_ImportA500_012024.xlsx\")\n",
    "SADT_ImportXML = pd.read_excel(r\"\\\\10.8\\usuarios$\\107\\Desktop\\Funcional_2024\\SADT_UNIR\\SADT_ImportXML_012024.xlsx\")\n"
   ]
  },
  {
   "cell_type": "code",
   "execution_count": null,
   "metadata": {},
   "outputs": [],
   "source": [
    "SADT_Digit_Manual.head(3)"
   ]
  },
  {
   "cell_type": "code",
   "execution_count": 4,
   "metadata": {},
   "outputs": [],
   "source": [
    "# Foi adicionado BQ_ ao nome da variavel para não dar conflito. Ou seja, não ficar com o mesmo nome das variaveis que estão lendo os arquivos.\n",
    "\n",
    "projeto ='teste-big-query-123456'\n",
    "dataset ='SADT'\n",
    "BQ_SADT_Digit_Manual ='SADT_Digit_Manual_012024'\n",
    "BQ_SADT_Digit_Portal ='SADT_Digit_Portal_012024'\n",
    "BQ_SADT_ImportA500 ='SADT_ImportA500_012024'\n",
    "BQ_SADT_ImportXML ='SADT_ImportXML_012024'\n",
    "parameretro ='replace'    "
   ]
  },
  {
   "cell_type": "code",
   "execution_count": 5,
   "metadata": {},
   "outputs": [],
   "source": [
    "credencial = service_account.Credentials.from_service_account_file(\n",
    "    r'C:\\Users\\107\\Downloads\\teste-big-query-123456-282b8bc713a3.json',\n",
    "    scopes=['https://www.googleapis.com/auth/bigquery']\n",
    ")"
   ]
  },
  {
   "cell_type": "code",
   "execution_count": 6,
   "metadata": {},
   "outputs": [
    {
     "name": "stderr",
     "output_type": "stream",
     "text": [
      "C:\\Users\\107035\\AppData\\Local\\Temp\\ipykernel_9260\\3870716288.py:1: FutureWarning: to_gbq is deprecated and will be removed in a future version. Please use pandas_gbq.to_gbq instead: https://pandas-gbq.readthedocs.io/en/latest/api.html#pandas_gbq.to_gbq\n",
      "  SADT_Digit_Manual.to_gbq(destination_table=f'{projeto}.{dataset}.{BQ_SADT_Digit_Manual}',\n"
     ]
    }
   ],
   "source": [
    "SADT_Digit_Manual.to_gbq(destination_table=f'{projeto}.{dataset}.{BQ_SADT_Digit_Manual}',   \n",
    "          project_id=projeto,\n",
    "          if_exists=parameretro,\n",
    "          credentials=credencial)"
   ]
  },
  {
   "cell_type": "code",
   "execution_count": 7,
   "metadata": {},
   "outputs": [
    {
     "name": "stderr",
     "output_type": "stream",
     "text": [
      "C:\\Users\\107035\\AppData\\Local\\Temp\\ipykernel_9260\\1974258139.py:1: FutureWarning: to_gbq is deprecated and will be removed in a future version. Please use pandas_gbq.to_gbq instead: https://pandas-gbq.readthedocs.io/en/latest/api.html#pandas_gbq.to_gbq\n",
      "  SADT_Digit_Portal.to_gbq(destination_table=f'{projeto}.{dataset}.{BQ_SADT_Digit_Portal}',\n"
     ]
    }
   ],
   "source": [
    "SADT_Digit_Portal.to_gbq(destination_table=f'{projeto}.{dataset}.{BQ_SADT_Digit_Portal}',   \n",
    "          project_id=projeto,\n",
    "          if_exists=parameretro,\n",
    "          credentials=credencial)"
   ]
  },
  {
   "cell_type": "code",
   "execution_count": 8,
   "metadata": {},
   "outputs": [
    {
     "name": "stderr",
     "output_type": "stream",
     "text": [
      "C:\\Users\\107035\\AppData\\Local\\Temp\\ipykernel_9260\\3856196598.py:1: FutureWarning: to_gbq is deprecated and will be removed in a future version. Please use pandas_gbq.to_gbq instead: https://pandas-gbq.readthedocs.io/en/latest/api.html#pandas_gbq.to_gbq\n",
      "  SADT_ImportA500.to_gbq(destination_table=f'{projeto}.{dataset}.{BQ_SADT_ImportA500}',\n"
     ]
    }
   ],
   "source": [
    "SADT_ImportA500.to_gbq(destination_table=f'{projeto}.{dataset}.{BQ_SADT_ImportA500}',   \n",
    "          project_id=projeto,\n",
    "          if_exists=parameretro,\n",
    "          credentials=credencial)"
   ]
  },
  {
   "cell_type": "code",
   "execution_count": 9,
   "metadata": {},
   "outputs": [
    {
     "name": "stderr",
     "output_type": "stream",
     "text": [
      "C:\\Users\\107035\\AppData\\Local\\Temp\\ipykernel_9260\\1318627436.py:1: FutureWarning: to_gbq is deprecated and will be removed in a future version. Please use pandas_gbq.to_gbq instead: https://pandas-gbq.readthedocs.io/en/latest/api.html#pandas_gbq.to_gbq\n",
      "  SADT_ImportXML.to_gbq(destination_table=f'{projeto}.{dataset}.{BQ_SADT_ImportXML}',\n"
     ]
    }
   ],
   "source": [
    "SADT_ImportXML.to_gbq(destination_table=f'{projeto}.{dataset}.{BQ_SADT_ImportXML}',   \n",
    "          project_id=projeto,\n",
    "          if_exists=parameretro,\n",
    "          credentials=credencial)"
   ]
  }
 ],
 "metadata": {
  "kernelspec": {
   "display_name": "Python 3",
   "language": "python",
   "name": "python3"
  },
  "language_info": {
   "codemirror_mode": {
    "name": "ipython",
    "version": 3
   },
   "file_extension": ".py",
   "mimetype": "text/x-python",
   "name": "python",
   "nbconvert_exporter": "python",
   "pygments_lexer": "ipython3",
   "version": "3.11.4"
  },
  "orig_nbformat": 4
 },
 "nbformat": 4,
 "nbformat_minor": 2
}
